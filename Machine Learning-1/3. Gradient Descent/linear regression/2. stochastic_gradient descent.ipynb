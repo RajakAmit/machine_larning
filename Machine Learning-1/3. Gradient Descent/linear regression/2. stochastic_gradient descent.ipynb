{
 "cells": [
  {
   "cell_type": "markdown",
   "metadata": {},
   "source": [
    "# Import Libraries"
   ]
  },
  {
   "cell_type": "code",
   "execution_count": 1,
   "metadata": {},
   "outputs": [],
   "source": [
    "import numpy as np\n",
    "import pandas as pd\n",
    "\n",
    "import matplotlib.pyplot as plt\n",
    "from matplotlib.animation import FuncAnimation\n",
    "from IPython.display import display, clear_output\n",
    "\n",
    "from sklearn.model_selection import train_test_split\n",
    "import random"
   ]
  },
  {
   "cell_type": "markdown",
   "metadata": {},
   "source": [
    "# Create Synth Data"
   ]
  },
  {
   "cell_type": "code",
   "execution_count": 2,
   "metadata": {},
   "outputs": [],
   "source": [
    "np.random.seed(0)\n",
    "x_train = 2 * np.random.rand(300, 1)\n",
    "y_train = 1 + 3 * x_train # + np.random.randn(300, 1)"
   ]
  },
  {
   "cell_type": "markdown",
   "metadata": {},
   "source": [
    "# Plot Data"
   ]
  },
  {
   "cell_type": "code",
   "execution_count": 3,
   "metadata": {},
   "outputs": [
    {
     "data": {
      "image/png": "[encoded data removed]",
      "text/plain": [
       "<Figure size 640x480 with 1 Axes>"
      ]
     },
     "metadata": {},
     "output_type": "display_data"
    }
   ],
   "source": [
    "plt.scatter(x_train, y_train)\n",
    "plt.xlabel('X')\n",
    "plt.ylabel('y')\n",
    "plt.title('Synthetic Data for Linear Regression')\n",
    "plt.show()\n"
   ]
  },
  {
   "cell_type": "markdown",
   "metadata": {},
   "source": [
    "# Define Loss function"
   ]
  },
  {
   "cell_type": "code",
   "execution_count": 4,
   "metadata": {},
   "outputs": [],
   "source": [
    "def error_function(y_true, y_predicted):\n",
    "     \n",
    "    # Calculating the loss or cost\n",
    "    cost = np.sum((y_true-y_predicted)**2) / len(y_true)\n",
    "    # cost = np.sum(np.abs(y_true - y_predicted)) / len(y_true)\n",
    "    return cost"
   ]
  },
  {
   "cell_type": "markdown",
   "metadata": {},
   "source": [
    "### Mean Squared Error (MSE)\n",
    "\n",
    "1. **MSE Loss Function**:\n",
    "\n",
    "   $$ \\text{MSE} = \\frac{1}{n} \\sum_{i=1}^{n} (y_i - \\hat{y}_i)^2 $$\n",
    "\n",
    "   where \\( \\hat{y}_i = wx_i + b \\).\n",
    "\n",
    "2. **Derivative with respect to weight \\( w \\)**:\n",
    "\n",
    "   $$ \\frac{\\partial \\text{MSE}}{\\partial w} = -\\frac{2}{n} \\sum_{i=1}^{n} (y_i - \\hat{y}_i)x_i = \\frac{2}{n} \\sum_{i=1}^{n} (\\hat{y}_i - y_i)x_i $$\n",
    "\n",
    "3. **Derivative with respect to bias \\( b \\)**:\n",
    "\n",
    "   $$ \\frac{\\partial \\text{MSE}}{\\partial b} = -\\frac{2}{n} \\sum_{i=1}^{n} (y_i - \\hat{y}_i) = \\frac{2}{n} \\sum_{i=1}^{n} (\\hat{y}_i - y_i) $$\n",
    "\n",
    "### Mean Absolute Error (MAE)\n",
    "\n",
    "1. **MAE Loss Function**:\n",
    "\n",
    "   $$ \\text{MAE} = \\frac{1}{n} \\sum_{i=1}^{n} |y_i - \\hat{y}_i| $$\n",
    "\n",
    "2. **Derivative with respect to weight \\( w \\)**:\n",
    "\n",
    "   $$ \\frac{\\partial \\text{MAE}}{\\partial w} = -\\frac{1}{n} \\sum_{i=1}^{n} \\text{sign}(y_i - \\hat{y}_i) \\cdot x_i $$\n",
    "\n",
    "3. **Derivative with respect to bias \\( b \\)**:\n",
    "\n",
    "   $$ \\frac{\\partial \\text{MAE}}{\\partial b} = -\\frac{1}{n} \\sum_{i=1}^{n} \\text{sign}(y_i - \\hat{y}_i) $$\n",
    "\n",
    "Where:\n",
    "- \\( \\text{sign}(z) \\) is a function that returns \\(1\\) if \\(z > 0\\), \\(-1\\) if \\(z < 0\\), and \\(0\\) if \\(z = 0\\).\n",
    "- \\( y_i \\) is the true value.\n",
    "- \\( \\hat{y}_i \\) is the predicted value, computed as \\( \\hat{y}_i = wx_i + b \\).\n",
    "- \\( x_i \\) is the input feature value.\n",
    "- \\( n \\) is the number of data points.\n"
   ]
  },
  {
   "cell_type": "markdown",
   "metadata": {},
   "source": [
    "# Implement Gradient Descent"
   ]
  },
  {
   "cell_type": "code",
   "execution_count": 5,
   "metadata": {},
   "outputs": [],
   "source": [
    "def batch_gradient_descent(x, y, batch_size, iterations, learning_rate, stopping_threshold=1e-6):\n",
    "    current_weight = random.uniform(2, 4)\n",
    "    current_bias = random.uniform(-1, 1)\n",
    "    n = len(x)\n",
    "    \n",
    "    costs = []\n",
    "    weights = []\n",
    "    biases = []\n",
    "    previous_cost = None\n",
    "    \n",
    "    for iteration in range(iterations):\n",
    "        # Shuffle data for each iteration\n",
    "        indices = np.arange(n)\n",
    "        np.random.shuffle(indices)\n",
    "        \n",
    "        x_shuffled = x[indices]\n",
    "        y_shuffled = y[indices]\n",
    "        \n",
    "        for i in range(0, batch_size):\n",
    "            x_batch = x_shuffled[i:i+batch_size]\n",
    "            y_batch = y_shuffled[i:i+batch_size]\n",
    "            \n",
    "            # Making predictions\n",
    "            y_predicted = (current_weight * x_batch) + current_bias\n",
    "            current_cost = error_function(y_batch, y_predicted)\n",
    " \n",
    "            if previous_cost and abs(previous_cost - current_cost) <= stopping_threshold:\n",
    "                return weights, biases, costs\n",
    "            \n",
    "            previous_cost = current_cost\n",
    "            costs.append(current_cost)\n",
    "            weights.append(current_weight)\n",
    "            biases.append(current_bias)\n",
    "            \n",
    "            # MSE\n",
    "            weight_derivative = -(2/len(x_batch)) * np.sum(x_batch * (y_batch - y_predicted))\n",
    "            bias_derivative = -(2/len(x_batch)) * np.sum(y_batch - y_predicted)\n",
    "            \n",
    "            # MAE\n",
    "            # weight_derivative = -np.mean(x * np.sign(y - y_predicted))\n",
    "            # bias_derivative = -np.mean(np.sign(y - y_predicted))\n",
    "\n",
    "            # Updating weights and bias\n",
    "            current_weight = current_weight - (learning_rate * weight_derivative)\n",
    "            current_bias = current_bias - (learning_rate * bias_derivative)\n",
    "                 \n",
    "    return weights, biases, costs"
   ]
  },
  {
   "cell_type": "markdown",
   "metadata": {},
   "source": [
    "# Plot Cost Function"
   ]
  },
  {
   "cell_type": "code",
   "execution_count": 6,
   "metadata": {},
   "outputs": [],
   "source": [
    "iterations = 250\n",
    "learning_rate = 0.05\n",
    "batch_size = 1 # 1 for SGD"
   ]
  },
  {
   "cell_type": "code",
   "execution_count": 7,
   "metadata": {},
   "outputs": [],
   "source": [
    "%matplotlib tk"
   ]
  },
  {
   "cell_type": "code",
   "execution_count": 8,
   "metadata": {},
   "outputs": [],
   "source": [
    "weights, biases, costs = batch_gradient_descent(x_train, y_train, batch_size, iterations, learning_rate)\n",
    "\n",
    "fig, (ax1, ax2, ax3, ax4) = plt.subplots(4, 1, figsize=(12, 18))\n",
    "\n",
    "# Plotting the data points and fit line\n",
    "scatter = ax1.scatter(x_train, y_train, marker='o', color='red')\n",
    "line, = ax1.plot(x_train, x_train * weights[0] + biases[0], color='blue', linestyle='dashed')\n",
    "ax1.set_xlabel(\"X\")\n",
    "ax1.set_ylabel(\"Y\")\n",
    "ax1.set_title(\"Data Points and Fit Line\")\n",
    "\n",
    "# Plotting the cost curve\n",
    "cost_line, = ax2.plot([], [], color='green')\n",
    "ax2.set_xlim(0, len(costs))\n",
    "ax2.set_ylim(0, max(costs))\n",
    "ax2.set_xlabel(\"Iteration\")\n",
    "ax2.set_ylabel(\"Cost\")\n",
    "ax2.set_title(\"Cost Curve\")\n",
    "\n",
    "# Plotting Costs vs. Weights\n",
    "weight_cost_line, = ax3.plot([], [], color='purple', linestyle='-')\n",
    "ax3.set_xlim(min(weights), max(weights))\n",
    "ax3.set_ylim(0, max(costs))\n",
    "ax3.set_xlabel(\"Weights\")\n",
    "ax3.set_ylabel(\"Cost\")\n",
    "ax3.set_title(\"Costs vs. Weights\")\n",
    "\n",
    "# Plotting Costs vs. Biases\n",
    "bias_cost_line, = ax4.plot([], [], color='orange', linestyle='-')\n",
    "ax4.set_xlim(min(biases), max(biases))\n",
    "ax4.set_ylim(0, max(costs))\n",
    "ax4.set_xlabel(\"Biases\")\n",
    "ax4.set_ylabel(\"Cost\")\n",
    "ax4.set_title(\"Costs vs. Biases\")\n",
    "\n",
    "# Animation function\n",
    "def update(frame):\n",
    "    # Update line fitting\n",
    "    current_weight = weights[frame]\n",
    "    current_bias = biases[frame]\n",
    "    y_pred = current_weight * x_train + current_bias\n",
    "    line.set_ydata(y_pred)\n",
    "    \n",
    "    # Update cost curve\n",
    "    cost_line.set_data(range(frame + 1), costs[:frame + 1])\n",
    "    \n",
    "    # Update Costs vs. Weights\n",
    "    weight_cost_line.set_data(weights[:frame + 1], costs[:frame + 1])\n",
    "    \n",
    "    # Update Costs vs. Biases\n",
    "    bias_cost_line.set_data(biases[:frame + 1], costs[:frame + 1])\n",
    "    \n",
    "    return line, cost_line, weight_cost_line, bias_cost_line\n",
    "\n",
    "# Create animation\n",
    "ani = FuncAnimation(fig, update, frames=len(weights), blit=False, interval=200)\n",
    "\n",
    "plt.tight_layout()\n",
    "plt.show()"
   ]
  },
  {
   "cell_type": "code",
   "execution_count": 9,
   "metadata": {},
   "outputs": [],
   "source": [
    "%matplotlib inline"
   ]
  },
  {
   "cell_type": "markdown",
   "metadata": {},
   "source": [
    "# Check Best Indexes"
   ]
  },
  {
   "cell_type": "code",
   "execution_count": 10,
   "metadata": {},
   "outputs": [
    {
     "name": "stdout",
     "output_type": "stream",
     "text": [
      "The best weight Steps 30\n",
      "{'coef_': 3.1246661459462084, 'intercept_': 0.8573172751447327}\n",
      "Best Weight: 3.1246661459462084 Best Bias: 0.8573172751447327\n"
     ]
    }
   ],
   "source": [
    "best_index = np.argmin(costs)\n",
    "print(\"The best weight Steps\", best_index)\n",
    "\n",
    "best_model = {}\n",
    "\n",
    "best_model['coef_'] = weights[best_index]\n",
    "best_model['intercept_'] =biases[best_index]\n",
    "\n",
    "print(best_model)\n",
    "\n",
    "print(f\"Best Weight: {best_model['coef_']} Best Bias: {best_model['intercept_']}\")"
   ]
  },
  {
   "cell_type": "code",
   "execution_count": 11,
   "metadata": {},
   "outputs": [
    {
     "name": "stdout",
     "output_type": "stream",
     "text": [
      "Latest Index 80\n",
      "{'coef_': 3.0623107309416127, 'intercept_': 0.9467896196540332}\n",
      "Latest Weight: 3.0623107309416127 Best Bias: 0.9467896196540332\n"
     ]
    }
   ],
   "source": [
    "print(\"Latest Index\", len(costs) - 1)\n",
    "\n",
    "latest_model = {}\n",
    "\n",
    "latest_model['coef_'] = weights[-1]\n",
    "latest_model['intercept_'] =biases[-1]\n",
    "\n",
    "print(latest_model)\n",
    "\n",
    "print(f\"Latest Weight: {latest_model['coef_']} Best Bias: {latest_model['intercept_']}\")"
   ]
  },
  {
   "cell_type": "code",
   "execution_count": 12,
   "metadata": {},
   "outputs": [
    {
     "data": {
      "text/plain": [
       "6.202088227613884e-07"
      ]
     },
     "execution_count": 12,
     "metadata": {},
     "output_type": "execute_result"
    }
   ],
   "source": [
    "costs[best_index]"
   ]
  },
  {
   "cell_type": "code",
   "execution_count": 13,
   "metadata": {},
   "outputs": [
    {
     "data": {
      "text/plain": [
       "2.0803329729310808e-05"
      ]
     },
     "execution_count": 13,
     "metadata": {},
     "output_type": "execute_result"
    }
   ],
   "source": [
    "costs[-1]"
   ]
  },
  {
   "cell_type": "code",
   "execution_count": null,
   "metadata": {},
   "outputs": [],
   "source": []
  },
  {
   "cell_type": "markdown",
   "metadata": {},
   "source": [
    "# Plot"
   ]
  },
  {
   "cell_type": "code",
   "execution_count": 14,
   "metadata": {},
   "outputs": [
    {
     "data": {
      "text/plain": [
       "[<matplotlib.lines.Line2D at 0x230569f14f0>]"
      ]
     },
     "execution_count": 14,
     "metadata": {},
     "output_type": "execute_result"
    },
    {
     "data": {
      "image/png": "[encoded data removed]",
      "text/plain": [
       "<Figure size 640x480 with 1 Axes>"
      ]
     },
     "metadata": {},
     "output_type": "display_data"
    }
   ],
   "source": [
    "plt.title(\"Best Index\")\n",
    "plt.xlabel('X')\n",
    "plt.ylabel('Y')\n",
    "plt.scatter(x_train,y_train,c='b')\n",
    "plt.plot(x_train,weights[best_index]*x_train + biases[best_index],c='g')"
   ]
  },
  {
   "cell_type": "code",
   "execution_count": 15,
   "metadata": {},
   "outputs": [
    {
     "data": {
      "text/plain": [
       "[<matplotlib.lines.Line2D at 0x23056a2ae50>]"
      ]
     },
     "execution_count": 15,
     "metadata": {},
     "output_type": "execute_result"
    },
    {
     "data": {
      "image/png": "[encoded data removed]",
      "text/plain": [
       "<Figure size 640x480 with 1 Axes>"
      ]
     },
     "metadata": {},
     "output_type": "display_data"
    }
   ],
   "source": [
    "plt.title(\"X\")\n",
    "plt.xlabel('Y')\n",
    "plt.ylabel('Salary')\n",
    "plt.scatter(x_train,y_train,c='b')\n",
    "plt.plot(x_train,weights[-1]*x_train + biases[-1],c='g')"
   ]
  }
 ],
 "metadata": {
  "kernelspec": {
   "display_name": "icebrkr",
   "language": "python",
   "name": "python3"
  },
  "language_info": {
   "codemirror_mode": {
    "name": "ipython",
    "version": 3
   },
   "file_extension": ".py",
   "mimetype": "text/x-python",
   "name": "python",
   "nbconvert_exporter": "python",
   "pygments_lexer": "ipython3",
   "version": "3.8.19"
  }
 },
 "nbformat": 4,
 "nbformat_minor": 2
}
